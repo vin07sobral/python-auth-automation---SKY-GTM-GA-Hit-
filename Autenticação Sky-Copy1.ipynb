{
 "cells": [
  {
   "cell_type": "code",
   "execution_count": 4,
   "id": "9b74b112",
   "metadata": {
    "scrolled": true
   },
   "outputs": [
    {
     "ename": "KeyboardInterrupt",
     "evalue": "",
     "output_type": "error",
     "traceback": [
      "\u001b[1;31m---------------------------------------------------------------------------\u001b[0m",
      "\u001b[1;31mKeyboardInterrupt\u001b[0m                         Traceback (most recent call last)",
      "\u001b[1;32m<ipython-input-4-cdab9158af9a>\u001b[0m in \u001b[0;36m<module>\u001b[1;34m\u001b[0m\n\u001b[0;32m     30\u001b[0m \u001b[1;31m#clique gtm/ga debug\u001b[0m\u001b[1;33m\u001b[0m\u001b[1;33m\u001b[0m\u001b[1;33m\u001b[0m\u001b[0m\n\u001b[0;32m     31\u001b[0m \u001b[0mpyautogui\u001b[0m\u001b[1;33m.\u001b[0m\u001b[0mclick\u001b[0m \u001b[1;33m(\u001b[0m\u001b[0mx\u001b[0m\u001b[1;33m=\u001b[0m\u001b[1;36m1671\u001b[0m\u001b[1;33m,\u001b[0m \u001b[0my\u001b[0m\u001b[1;33m=\u001b[0m\u001b[1;36m345\u001b[0m\u001b[1;33m)\u001b[0m\u001b[1;33m\u001b[0m\u001b[1;33m\u001b[0m\u001b[0m\n\u001b[1;32m---> 32\u001b[1;33m \u001b[0mtime\u001b[0m\u001b[1;33m.\u001b[0m\u001b[0msleep\u001b[0m\u001b[1;33m(\u001b[0m\u001b[1;36m2\u001b[0m\u001b[1;33m)\u001b[0m\u001b[1;33m\u001b[0m\u001b[1;33m\u001b[0m\u001b[0m\n\u001b[0m\u001b[0;32m     33\u001b[0m \u001b[0mpyautogui\u001b[0m\u001b[1;33m.\u001b[0m\u001b[0mclick\u001b[0m \u001b[1;33m(\u001b[0m\u001b[0mx\u001b[0m\u001b[1;33m=\u001b[0m\u001b[1;36m1850\u001b[0m\u001b[1;33m,\u001b[0m \u001b[0my\u001b[0m\u001b[1;33m=\u001b[0m\u001b[1;36m223\u001b[0m\u001b[1;33m)\u001b[0m\u001b[1;33m\u001b[0m\u001b[1;33m\u001b[0m\u001b[0m\n\u001b[0;32m     34\u001b[0m \u001b[0mtime\u001b[0m\u001b[1;33m.\u001b[0m\u001b[0msleep\u001b[0m\u001b[1;33m(\u001b[0m\u001b[1;36m4\u001b[0m\u001b[1;33m)\u001b[0m\u001b[1;33m\u001b[0m\u001b[1;33m\u001b[0m\u001b[0m\n",
      "\u001b[1;31mKeyboardInterrupt\u001b[0m: "
     ]
    }
   ],
   "source": [
    "import pyautogui\n",
    "import pyperclip\n",
    "import time\n",
    "\n",
    "pyautogui.PAUSE = 1\n",
    "\n",
    "pyautogui.hotkey('ctrl', 't')\n",
    "pyautogui.write('sky.com.br')\n",
    "pyautogui.press('enter')\n",
    "\n",
    "time.sleep(3)\n",
    "pyautogui.click(x=759, y=844)\n",
    "time.sleep(3)\n",
    "pyautogui.click(x=736, y=753)\n",
    "time.sleep(3)\n",
    "pyautogui.write ('***.***.***-**')\n",
    "pyautogui.press ('enter')\n",
    "time.sleep(3)\n",
    "pyautogui.click (x=729, y=910)\n",
    "time.sleep(2)\n",
    "pyautogui.write ('12345')\n",
    "time.sleep(2)\n",
    "pyautogui.press ('enter')\n",
    "time.sleep(4)\n",
    "pyautogui.press ('f12')\n",
    "time.sleep(2)\n",
    "#clique reticencias\n",
    "pyautogui.click (x=1645, y=121)\n",
    "time.sleep(2)\n",
    "#clique gtm/ga debug\n",
    "pyautogui.click (x=1671, y=345)\n",
    "time.sleep(2)\n",
    "pyautogui.click (x=1850, y=223)\n",
    "time.sleep(4)\n",
    "pyautogui.click (x=1491, y=666)\n",
    "time.sleep(2)\n",
    "pyautogui.click (x=98, y=237)\n",
    "time.sleep(2)\n",
    "pyautogui.click (x=1296, y=583)\n",
    "time.sleep(2)\n",
    "pyautogui.click (x=1173, y=430)\n",
    "pyautogui.scroll(-5000)\n",
    "pyautogui.press('prtscr')\n",
    "\n",
    "time.sleep(1)\n",
    "pyautogui.hotkey('win')\n",
    "time.sleep(1)\n",
    "pyautogui.write('paint')\n",
    "pyautogui.press('enter')\n",
    "time.sleep(4)\n",
    "pyautogui.click (x=1300, y=1047)\n",
    "time.sleep(1)\n",
    "pyautogui.hotkey('ctrl','v')\n"
   ]
  },
  {
   "cell_type": "code",
   "execution_count": 29,
   "id": "d13f2ce2",
   "metadata": {},
   "outputs": [
    {
     "data": {
      "text/plain": [
       "Point(x=1300, y=1047)"
      ]
     },
     "execution_count": 29,
     "metadata": {},
     "output_type": "execute_result"
    }
   ],
   "source": [
    "import time\n",
    "\n",
    "time.sleep(5)\n",
    "pyautogui.position()"
   ]
  },
  {
   "cell_type": "code",
   "execution_count": 24,
   "id": "04e16660",
   "metadata": {},
   "outputs": [],
   "source": []
  },
  {
   "cell_type": "markdown",
   "id": "17dbb972",
   "metadata": {},
   "source": []
  }
 ],
 "metadata": {
  "kernelspec": {
   "display_name": "Python 3",
   "language": "python",
   "name": "python3"
  },
  "language_info": {
   "codemirror_mode": {
    "name": "ipython",
    "version": 3
   },
   "file_extension": ".py",
   "mimetype": "text/x-python",
   "name": "python",
   "nbconvert_exporter": "python",
   "pygments_lexer": "ipython3",
   "version": "3.8.8"
  }
 },
 "nbformat": 4,
 "nbformat_minor": 5
}
